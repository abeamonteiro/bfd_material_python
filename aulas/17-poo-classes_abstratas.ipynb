{
 "cells": [
  {
   "cell_type": "markdown",
   "id": "59ad61be",
   "metadata": {},
   "source": [
    "# POO: Classes abstratas\n",
    "\n",
    "Essencialmente, são classes que não podem ser instanciadas diretamente, mas servem de estrutura padrão, templete, para criação de novas classes."
   ]
  },
  {
   "cell_type": "markdown",
   "id": "7dfa0c36",
   "metadata": {},
   "source": [
    "Para usar classes abstratas no python, é necessário importar o módulo ABC:"
   ]
  },
  {
   "cell_type": "code",
   "execution_count": 7,
   "id": "1cdba73a",
   "metadata": {},
   "outputs": [],
   "source": [
    "from abc import ABC, abstractmethod"
   ]
  },
  {
   "cell_type": "code",
   "execution_count": 8,
   "id": "4c68f5c3",
   "metadata": {},
   "outputs": [],
   "source": [
    "class Animal(ABC):\n",
    "    @abstractmethod\n",
    "    def movimentar(self,metros:float):\n",
    "        print(f\"O animal se deslocou {metros} metros\")"
   ]
  },
  {
   "cell_type": "code",
   "execution_count": 9,
   "id": "8321a3a7",
   "metadata": {},
   "outputs": [
    {
     "ename": "TypeError",
     "evalue": "Can't instantiate abstract class Animal without an implementation for abstract method 'movimentar'",
     "output_type": "error",
     "traceback": [
      "\u001b[31m---------------------------------------------------------------------------\u001b[39m",
      "\u001b[31mTypeError\u001b[39m                                 Traceback (most recent call last)",
      "\u001b[36mCell\u001b[39m\u001b[36m \u001b[39m\u001b[32mIn[9]\u001b[39m\u001b[32m, line 1\u001b[39m\n\u001b[32m----> \u001b[39m\u001b[32m1\u001b[39m animal1 = \u001b[43mAnimal\u001b[49m\u001b[43m(\u001b[49m\u001b[43m)\u001b[49m\n\u001b[32m      2\u001b[39m animal1.movimentar(\u001b[32m5\u001b[39m)\n",
      "\u001b[31mTypeError\u001b[39m: Can't instantiate abstract class Animal without an implementation for abstract method 'movimentar'"
     ]
    }
   ],
   "source": [
    "animal1 = Animal()\n",
    "animal1.movimentar(5)"
   ]
  }
 ],
 "metadata": {
  "kernelspec": {
   "display_name": "Python 3",
   "language": "python",
   "name": "python3"
  },
  "language_info": {
   "codemirror_mode": {
    "name": "ipython",
    "version": 3
   },
   "file_extension": ".py",
   "mimetype": "text/x-python",
   "name": "python",
   "nbconvert_exporter": "python",
   "pygments_lexer": "ipython3",
   "version": "3.13.7"
  }
 },
 "nbformat": 4,
 "nbformat_minor": 5
}
