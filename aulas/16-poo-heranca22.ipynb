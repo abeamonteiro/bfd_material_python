{
 "cells": [
  {
   "cell_type": "markdown",
   "id": "7edb92ae",
   "metadata": {},
   "source": [
    "# Herança"
   ]
  },
  {
   "cell_type": "code",
   "execution_count": null,
   "id": "9296804d",
   "metadata": {},
   "outputs": [
    {
     "name": "stdout",
     "output_type": "stream",
     "text": [
      "rex\n",
      "2\n",
      "au au\n"
     ]
    }
   ],
   "source": [
    "class Animal:\n",
    "    def __init__(self,nome,idade):\n",
    "        self.nome = nome\n",
    "        self.idade = idade\n",
    "    def som(self):\n",
    "        print(\"som indefinido\")\n",
    "\n",
    "class Cachorro(Animal):\n",
    "    def som(self):\n",
    "        print(\"au au\")\n",
    "\n",
    "doguinho = Cachorro()\n",
    "print(doguinho.nome)\n",
    "print(doguinho.idade)\n",
    "doguinho.som()\n",
    "\n",
    "\n"
   ]
  },
  {
   "cell_type": "code",
   "execution_count": 17,
   "id": "356d7086",
   "metadata": {},
   "outputs": [
    {
     "name": "stdout",
     "output_type": "stream",
     "text": [
      "Miauuuuu\n",
      "1\n",
      "laje\n"
     ]
    },
    {
     "data": {
      "text/plain": [
       "'Assobia'"
      ]
     },
     "execution_count": 17,
     "metadata": {},
     "output_type": "execute_result"
    }
   ],
   "source": [
    "class Mamifero:\n",
    "    def __init__(self, idade, habitat):\n",
    "        self.idade = idade\n",
    "        self.habitat = habitat\n",
    "        self.prole = \"gestação\"\n",
    "        self.alimentacao_infantil = \"leite\"\n",
    "\n",
    "    def som(self):\n",
    "        return \"Nenhum som definido\"\n",
    "\n",
    "class Morcego(Mamifero):\n",
    "    def som(self):\n",
    "        return \"Assobia\"\n",
    "    \n",
    "\n",
    "class Gato(Mamifero):\n",
    "    def som(self):\n",
    "        return \"Miauuuuu\"\n",
    "    #def __init__(self, locomocao=\"vôo\"):\n",
    "        #super().__init__(idade, habitat, som)\n",
    "    #    self.locomocao = locomocao\n",
    "        \n",
    "\n",
    "zubat = Morcego(1,\"laje\")\n",
    "gatinho = Gato(4,\"sala\")\n",
    "\n",
    "print(gatinho.som())\n",
    "\n",
    "print(zubat.idade)\n",
    "print(zubat.habitat)\n",
    "zubat.som()\n",
    "#print(zubat.locomocao)\n",
    "#print(zubat.prole)\n",
    "#print(zubat.alimentacao_infantil)\n",
    "\n",
    "#print(zubat.locomocao)"
   ]
  }
 ],
 "metadata": {
  "kernelspec": {
   "display_name": "Python 3",
   "language": "python",
   "name": "python3"
  },
  "language_info": {
   "codemirror_mode": {
    "name": "ipython",
    "version": 3
   },
   "file_extension": ".py",
   "mimetype": "text/x-python",
   "name": "python",
   "nbconvert_exporter": "python",
   "pygments_lexer": "ipython3",
   "version": "3.13.6"
  }
 },
 "nbformat": 4,
 "nbformat_minor": 5
}
