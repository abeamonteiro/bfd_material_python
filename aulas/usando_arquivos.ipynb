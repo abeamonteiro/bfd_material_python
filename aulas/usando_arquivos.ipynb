{
 "cells": [
  {
   "cell_type": "markdown",
   "id": "3db71a75",
   "metadata": {},
   "source": [
    "# Trabalhando com arquivos"
   ]
  },
  {
   "cell_type": "markdown",
   "id": "778f0da0",
   "metadata": {},
   "source": [
    "Para trabalhar com arquivos no python, é necessário inicialmente abrir o arquivo, só depois que conseguimos manipular o arquivo. É importante fechar o arquivo depois de usa"
   ]
  },
  {
   "cell_type": "code",
   "execution_count": null,
   "id": "b50d61c5",
   "metadata": {},
   "outputs": [
    {
     "ename": "NameError",
     "evalue": "name 'arquivro' is not defined",
     "output_type": "error",
     "traceback": [
      "\u001b[31m---------------------------------------------------------------------------\u001b[39m",
      "\u001b[31mNameError\u001b[39m                                 Traceback (most recent call last)",
      "\u001b[36mCell\u001b[39m\u001b[36m \u001b[39m\u001b[32mIn[16]\u001b[39m\u001b[32m, line 4\u001b[39m\n\u001b[32m      1\u001b[39m arquivo = \u001b[38;5;28mopen\u001b[39m(\u001b[33m\"\u001b[39m\u001b[33marquivo.txt\u001b[39m\u001b[33m\"\u001b[39m,\u001b[33m\"\u001b[39m\u001b[33mr\u001b[39m\u001b[33m\"\u001b[39m)\n\u001b[32m----> \u001b[39m\u001b[32m4\u001b[39m \u001b[38;5;28mprint\u001b[39m(\u001b[43marquivro\u001b[49m.read())\n\u001b[32m      5\u001b[39m arquivo.close()\n",
      "\u001b[31mNameError\u001b[39m: name 'arquivro' is not defined"
     ]
    }
   ],
   "source": [
    "arquivo = open(\"arquivo.txt\",\"r\")\n",
    "\n",
    "print(arquivro.read())\n",
    "arquivo.close()"
   ]
  },
  {
   "cell_type": "code",
   "execution_count": 13,
   "id": "6686a253",
   "metadata": {},
   "outputs": [
    {
     "name": "stdout",
     "output_type": "stream",
     "text": [
      "Ola, sou fred e vc?mudando o texto do arquivo\n"
     ]
    }
   ],
   "source": [
    "arquivo = open(\"arquivo.txt\",\"a\")\n",
    "arquivo.write(\"mudando o texto do arquivo\")\n",
    "\n",
    "arquivo = open(\"arquivo.txt\",\"r\")\n",
    "print(arquivo.read())\n"
   ]
  }
 ],
 "metadata": {
  "kernelspec": {
   "display_name": "Python 3",
   "language": "python",
   "name": "python3"
  },
  "language_info": {
   "codemirror_mode": {
    "name": "ipython",
    "version": 3
   },
   "file_extension": ".py",
   "mimetype": "text/x-python",
   "name": "python",
   "nbconvert_exporter": "python",
   "pygments_lexer": "ipython3",
   "version": "3.13.6"
  }
 },
 "nbformat": 4,
 "nbformat_minor": 5
}
