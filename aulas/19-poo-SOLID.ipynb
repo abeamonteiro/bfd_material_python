{
 "cells": [
  {
   "cell_type": "markdown",
   "id": "f1800a51",
   "metadata": {},
   "source": [
    "# S O L I D\n",
    "\n",
    "5 princípios de design de software que visam tornar o código mais compreensível, flexível e fácil de manter e expandir, especialmente na Programação Orientada a Objetos (POO)\n",
    "\n",
    "- Single Responsibility\n",
    "- Open/Closed\n",
    "- Liskov Substitution\n",
    "- Interface Segregation\n",
    "- Dependency Inversion"
   ]
  }
 ],
 "metadata": {
  "language_info": {
   "name": "python"
  }
 },
 "nbformat": 4,
 "nbformat_minor": 5
}
