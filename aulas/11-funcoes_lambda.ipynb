{
 "cells": [
  {
   "cell_type": "markdown",
   "id": "fea6e936",
   "metadata": {},
   "source": [
    "# Funções Lambda"
   ]
  },
  {
   "cell_type": "markdown",
   "id": "eb87168d",
   "metadata": {},
   "source": [
    "Também conhecida como função anonima.\n",
    "Util quando precisa de funções rápidas\n",
    "\n",
    "Sintaxe:\n",
    "\n",
    "`lambda argumentos: expressão`"
   ]
  },
  {
   "cell_type": "code",
   "execution_count": null,
   "id": "4241391b",
   "metadata": {},
   "outputs": [],
   "source": [
    "def dobro(num):\n",
    "    return num * 2\n",
    "dobro(5)"
   ]
  },
  {
   "cell_type": "code",
   "execution_count": null,
   "id": "e15ac966",
   "metadata": {},
   "outputs": [
    {
     "name": "stdout",
     "output_type": "stream",
     "text": [
      "10\n"
     ]
    }
   ],
   "source": [
    "dobro = lambda num : num *2\n",
    "print(dobro(5))"
   ]
  },
  {
   "cell_type": "code",
   "execution_count": null,
   "id": "2917384a",
   "metadata": {},
   "outputs": [
    {
     "name": "stdout",
     "output_type": "stream",
     "text": [
      "10\n"
     ]
    }
   ],
   "source": [
    "print((lambda num : num *2)(5))"
   ]
  },
  {
   "cell_type": "markdown",
   "id": "947355cb",
   "metadata": {},
   "source": [
    "Note que as funções lambda:\n",
    "\n",
    "- Podem receber vários argumentos\n",
    "- A expressão tem que ser de uma linha\n",
    "- Não precisa usar return. Ele já esta implícito na função\n",
    "- Não precisa de nome"
   ]
  },
  {
   "cell_type": "markdown",
   "id": "aa165bbf",
   "metadata": {},
   "source": [
    "## Funções de ordem superior"
   ]
  },
  {
   "cell_type": "code",
   "execution_count": null,
   "id": "3702100f",
   "metadata": {},
   "outputs": [
    {
     "name": "stdout",
     "output_type": "stream",
     "text": [
      "[2, 4, 10]\n"
     ]
    }
   ],
   "source": [
    "def multiplica_lista(lista,funcao):\n",
    "    for index, item in enumerate(lista):    \n",
    "        lista[index] = funcao(item)\n",
    "    return lista\n",
    "\n",
    "def dobro(num):\n",
    "    return num * 2\n",
    "\n",
    "print(multiplica_lista([1,2,3],dobro))"
   ]
  },
  {
   "cell_type": "code",
   "execution_count": null,
   "id": "79e04eb9",
   "metadata": {},
   "outputs": [
    {
     "name": "stdout",
     "output_type": "stream",
     "text": [
      "[2, 4, 10]\n"
     ]
    }
   ],
   "source": [
    "def multiplica_lista(lista,funcao):\n",
    "    for index, item in enumerate(lista):    \n",
    "        lista[index] = funcao(item)\n",
    "    return lista\n",
    "\n",
    "print(multiplica_lista([1,2,3],lambda num : num * 2))"
   ]
  },
  {
   "cell_type": "code",
   "execution_count": null,
   "id": "2fb8dee8",
   "metadata": {},
   "outputs": [],
   "source": [
    "# Calculadora\n",
    "\n",
    "def calculadora(operacao, num1, num2):\n",
    "    return operacao(num1,num2)"
   ]
  },
  {
   "cell_type": "markdown",
   "id": "214d135f",
   "metadata": {},
   "source": []
  },
  {
   "cell_type": "code",
   "execution_count": null,
   "id": "e416fbf7",
   "metadata": {},
   "outputs": [],
   "source": []
  },
  {
   "cell_type": "markdown",
   "id": "bbbab4d6",
   "metadata": {},
   "source": [
    "## Função `map`"
   ]
  },
  {
   "cell_type": "code",
   "execution_count": null,
   "id": "39ccbd61",
   "metadata": {},
   "outputs": [],
   "source": [
    "lista = [1,2,3,4,5]\n",
    "print(list(map(x+5, lista)))"
   ]
  },
  {
   "cell_type": "markdown",
   "id": "e2d1d57f",
   "metadata": {},
   "source": [
    "## Função `filter`"
   ]
  },
  {
   "cell_type": "markdown",
   "id": "55c68976",
   "metadata": {},
   "source": [
    "## Função `reduce`"
   ]
  },
  {
   "cell_type": "markdown",
   "id": "a2ff8496",
   "metadata": {},
   "source": [
    "## Funções lambda com esteroides"
   ]
  }
 ],
 "metadata": {
  "kernelspec": {
   "display_name": "Python 3",
   "language": "python",
   "name": "python3"
  },
  "language_info": {
   "codemirror_mode": {
    "name": "ipython",
    "version": 3
   },
   "file_extension": ".py",
   "mimetype": "text/x-python",
   "name": "python",
   "nbconvert_exporter": "python",
   "pygments_lexer": "ipython3",
   "version": "3.13.1"
  }
 },
 "nbformat": 4,
 "nbformat_minor": 5
}
