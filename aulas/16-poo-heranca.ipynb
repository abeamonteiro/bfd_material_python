{
 "cells": [
  {
   "cell_type": "markdown",
   "id": "822c63cf",
   "metadata": {},
   "source": [
    "# POO: Herança\n",
    "\n",
    "A herança é um dos pilares da programação orientada a objetos.\n",
    "\n",
    "Ela permite que uma classe (filha/derivada) herde atributos e métodos de outra classe (pai/base), podendo reutilizar e também especializar comportamentos.\n",
    "\n",
    "**Principais benefícios:**\n",
    "\n",
    "- Reaproveitamento de código: evita duplicação.\n",
    "\n",
    "- Extensibilidade: permite criar novas funcionalidades sem alterar o código original.\n",
    "\n",
    "- Organização: estabelece hierarquias claras entre classes.\n",
    "\n",
    "Quando bem aplicada, a herança ajuda a cumprir princípios do SOLID, como:\n",
    "\n",
    "- Responsabilidade Única: classes mais coesas e com funções bem definidas.\n",
    "\n",
    "- Aberto/Fechado: permite estender funcionalidades sem modificar a classe existente."
   ]
  },
  {
   "cell_type": "markdown",
   "id": "db3a5c89",
   "metadata": {},
   "source": [
    "## Herança única\n",
    "Uma classe filha herda de uma classes pai/mãe."
   ]
  },
  {
   "cell_type": "code",
   "execution_count": null,
   "id": "8dfb81ee",
   "metadata": {},
   "outputs": [],
   "source": [
    "class Mamifero:\n",
    "    def __init__(self, especie, habitat):\n",
    "        self.especie = especie\n",
    "        self.habitat = habitat\n",
    "    \n",
    "    def __str__(self):\n",
    "        return f\"O mamífero da espécie {self.especie}, pode ser localizado no {self.habitat}\"\n",
    "\n",
    "    def movimentar(self):\n",
    "        print(\"Caminhando\")\n",
    "\n",
    "class Cachorro(Mamifero):\n",
    "    ...\n"
   ]
  },
  {
   "cell_type": "markdown",
   "id": "7c86a19b",
   "metadata": {
    "vscode": {
     "languageId": "plaintext"
    }
   },
   "source": [
    "## Herança hierárquica\n",
    "Mais de uma classe filha herda de uma mesma classe pai."
   ]
  },
  {
   "cell_type": "markdown",
   "id": "1233f0ca",
   "metadata": {},
   "source": [
    "# Herança múltipla\n",
    "Uma classe filha herda de duas ou mais classes pai/mãe."
   ]
  },
  {
   "cell_type": "code",
   "execution_count": null,
   "id": "67bef180",
   "metadata": {
    "vscode": {
     "languageId": "plaintext"
    }
   },
   "outputs": [],
   "source": []
  },
  {
   "cell_type": "markdown",
   "id": "86df6fb0",
   "metadata": {},
   "source": [
    "# Herança multinível\n",
    "Uma classe filha herda de uma classe pai/mãe que por sua vez, herda de um outra classe pai/mãe."
   ]
  },
  {
   "cell_type": "markdown",
   "id": "354273d8",
   "metadata": {},
   "source": [
    "## Herança híbrida\n",
    "Diferentes tipos de heranças definem atuando em conjunto."
   ]
  }
 ],
 "metadata": {
  "language_info": {
   "name": "python"
  }
 },
 "nbformat": 4,
 "nbformat_minor": 5
}
