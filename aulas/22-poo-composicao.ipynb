{
 "cells": [
  {
   "cell_type": "markdown",
   "id": "eeed4e12",
   "metadata": {},
   "source": [
    "Na composição, os objetos não existem fora da classe que os contém. Se a classe “dona” for destruída, os objetos também são."
   ]
  },
  {
   "cell_type": "code",
   "execution_count": 2,
   "id": "38bf342a",
   "metadata": {},
   "outputs": [
    {
     "name": "stdout",
     "output_type": "stream",
     "text": [
      "Ligando o carro Fusca...\n",
      "Motor de 50 cavalos ligado.\n",
      "Ligando o carro Uno com escada...\n",
      "Motor de 1000 cavalos ligado.\n"
     ]
    }
   ],
   "source": [
    "class Motor:\n",
    "    def __init__(self, potencia:int):\n",
    "        self.potencia = potencia\n",
    "\n",
    "    def ligar(self):\n",
    "        print(f\"Motor de {self.potencia} cavalos ligado.\")\n",
    "\n",
    "\n",
    "class Carro:\n",
    "    def __init__(self, modelo: str, potencia_motor: int):\n",
    "        self.modelo = modelo\n",
    "        # Composição: o motor só existe dentro do carro\n",
    "        self.motor = Motor(potencia_motor)\n",
    "\n",
    "    def ligar_carro(self):\n",
    "        print(f\"Ligando o carro {self.modelo}...\")\n",
    "        self.motor.ligar()\n",
    "\n",
    "carro02 =Carro(\"Uno com escada\", 1000)\n",
    "carro = Carro(\"Fusca\", 50)\n",
    "carro.ligar_carro()\n",
    "carro02.ligar_carro()"
   ]
  },
  {
   "cell_type": "markdown",
   "id": "8012283c",
   "metadata": {},
   "source": [
    "## Note:\n",
    "Aqui, o Motor é criado dentro do Carro. Se o Carro deixar de existir, o Motor também deixa."
   ]
  }
 ],
 "metadata": {
  "kernelspec": {
   "display_name": "Python 3",
   "language": "python",
   "name": "python3"
  },
  "language_info": {
   "codemirror_mode": {
    "name": "ipython",
    "version": 3
   },
   "file_extension": ".py",
   "mimetype": "text/x-python",
   "name": "python",
   "nbconvert_exporter": "python",
   "pygments_lexer": "ipython3",
   "version": "3.13.6"
  }
 },
 "nbformat": 4,
 "nbformat_minor": 5
}
