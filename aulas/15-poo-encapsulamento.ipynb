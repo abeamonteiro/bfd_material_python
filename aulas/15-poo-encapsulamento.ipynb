{
 "cells": [
  {
   "cell_type": "markdown",
   "id": "96ef6fe3",
   "metadata": {},
   "source": [
    "# POO: Encapsulamento"
   ]
  },
  {
   "cell_type": "code",
   "execution_count": null,
   "id": "79c3f377",
   "metadata": {},
   "outputs": [],
   "source": [
    "import datetime\n",
    "\n",
    "class ContaBancaria:\n",
    "    # Atributos\n",
    "    def __init__(self, titular, num_conta, saldo=0):  # Funcao construtora\n",
    "        self.titular = titular\n",
    "        self.num_conta = num_conta\n",
    "        self.__saldo = saldo\n",
    "        self.operacoes = []\n",
    "\n",
    "    def __str__(self):\n",
    "        return f\"Conta n {self.num_conta} do titular {self.titular} tem {self.__saldo} de saldo\"\n",
    "    \n",
    "    def __repr__(self):\n",
    "        return f\"ContaBancaria(titular={self.titular!r},num_conta={self.num_conta!r}, saldo={self.__saldo!r})\"\n",
    "\n",
    "    # Getters\n",
    "    def get_saldo(self):\n",
    "        return self.__saldo\n",
    "    \n",
    "    # Setters\n",
    "    def set_saldo(self, valor):\n",
    "        if valor < 0:\n",
    "            print(\"Saldo não pode ser negatio\")\n",
    "        else:\n",
    "            self.__saldo = valor\n",
    "\n",
    "\n",
    "    # Metodo\n",
    "    def deposito(self, valor):\n",
    "        self.__saldo += valor\n",
    "        self.__registra_operacao(\"deposito\", valor)\n",
    "        print(f\"Foi depositado {valor} reais na sua conta\")\n",
    "    \n",
    "    def saque(self, valor):\n",
    "        self.__saldo -= valor\n",
    "        self.__registra_operacao(\"saque\", valor)\n",
    "        print(f\"Foi sacado {valor} reais na sua conta\")\n",
    "\n",
    "    def extrato(self):\n",
    "        for index, operacao in enumerate(self.operacoes):\n",
    "            print(f\"{index+1}. {operacao[0]} - {operacao[1]}: {operacao[2]}\")\n",
    "        print(f\"Saldo: {self.__saldo}\")\n",
    "\n",
    "    def __registra_operacao(self,tipo,valor):\n",
    "        data_operacao = datetime.datetime.now().strftime(\"%d/%m/%Y - %H:%M:%S\")\n",
    "        self.operacoes.append([data_operacao, tipo, valor])"
   ]
  },
  {
   "cell_type": "code",
   "execution_count": 89,
   "id": "467acc8f",
   "metadata": {},
   "outputs": [
    {
     "ename": "AttributeError",
     "evalue": "'ContaBancaria' object has no attribute '__saldo'",
     "output_type": "error",
     "traceback": [
      "\u001b[31m---------------------------------------------------------------------------\u001b[39m",
      "\u001b[31mAttributeError\u001b[39m                            Traceback (most recent call last)",
      "\u001b[36mCell\u001b[39m\u001b[36m \u001b[39m\u001b[32mIn[89]\u001b[39m\u001b[32m, line 2\u001b[39m\n\u001b[32m      1\u001b[39m conta1 = ContaBancaria(\u001b[33m\"\u001b[39m\u001b[33mFrederico\u001b[39m\u001b[33m\"\u001b[39m, \u001b[33m\"\u001b[39m\u001b[33m0000000\u001b[39m\u001b[33m\"\u001b[39m, \u001b[32m50\u001b[39m)\n\u001b[32m----> \u001b[39m\u001b[32m2\u001b[39m \u001b[38;5;28mprint\u001b[39m(\u001b[43mconta1\u001b[49m\u001b[43m.\u001b[49m\u001b[43m__saldo\u001b[49m)\n\u001b[32m      4\u001b[39m \u001b[38;5;66;03m#conta1.__saldo = -34\u001b[39;00m\n\u001b[32m      5\u001b[39m \u001b[38;5;66;03m#print(conta1.__saldo)\u001b[39;00m\n\u001b[32m      6\u001b[39m conta1.deposito(\u001b[32m456\u001b[39m)\n",
      "\u001b[31mAttributeError\u001b[39m: 'ContaBancaria' object has no attribute '__saldo'"
     ]
    }
   ],
   "source": [
    "conta1 = ContaBancaria(\"Frederico\", \"0000000\", 50)\n",
    "print(conta1.__saldo)\n",
    "\n",
    "#conta1.__saldo = -34\n",
    "#print(conta1.__saldo)\n",
    "conta1.deposito(456)\n",
    "print(conta1)\n",
    "print(conta1.get_saldo())\n",
    "\n",
    "conta1.set_saldo(-40)\n",
    "#conta1.__registra_operacao(\"saldo\",50)\n",
    "conta1.operacoes"
   ]
  }
 ],
 "metadata": {
  "kernelspec": {
   "display_name": "Python 3",
   "language": "python",
   "name": "python3"
  },
  "language_info": {
   "codemirror_mode": {
    "name": "ipython",
    "version": 3
   },
   "file_extension": ".py",
   "mimetype": "text/x-python",
   "name": "python",
   "nbconvert_exporter": "python",
   "pygments_lexer": "ipython3",
   "version": "3.13.6"
  }
 },
 "nbformat": 4,
 "nbformat_minor": 5
}
