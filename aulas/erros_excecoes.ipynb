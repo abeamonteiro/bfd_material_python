{
 "cells": [
  {
   "cell_type": "markdown",
   "id": "da4a3a70",
   "metadata": {},
   "source": [
    "# Erros e exceções\n",
    "Certamente já nos deparamos com erros no python, quando algo esta errado no código, normalmente a execução do programa é interrompido e no terminal é mostrado uma mensagem similar a essa:"
   ]
  },
  {
   "cell_type": "code",
   "execution_count": null,
   "id": "4f5c90c4",
   "metadata": {},
   "outputs": [],
   "source": [
    "casa"
   ]
  },
  {
   "cell_type": "code",
   "execution_count": null,
   "id": "f2b6f9eb",
   "metadata": {
    "vscode": {
     "languageId": "shellscript"
    }
   },
   "outputs": [],
   "source": [
    "Traceback (most recent call last):\n",
    "  File \"/home/frederico/dev/bfd_material_python/teste.py\", line 1, in <module>\n",
    "    casa\n",
    "NameError: name 'casa' is not defined"
   ]
  },
  {
   "cell_type": "markdown",
   "id": "333e0b12",
   "metadata": {},
   "source": [
    "Apesar da mensagem poder assustar, ela traz informações extremamente importantes que nos dão pistas de como resolver o erro.\n",
    "Note no erro gerado, que na segunda linha ele nos informa o arquivo que levantou o erro e a linha onde provavelmente o erro esta. Logo em seguida, linha 3, ele mostra a linha do código em si e depois nos é informado o tipo do erro e a sua descrição. Nesse caso foi um **NameError**, um erro que ocorre commumente quando um nome de variável não foi definida. Aqui a palavra casa, não é nem uma string nem uma declaração de variável.\n",
    "\n",
    "No python existem essencialmente 2 grupos de erros: O erro de sintaxe, como o nome sugere, ocorre quando o código apresenta um erro na sua sintaxe:"
   ]
  },
  {
   "cell_type": "code",
   "execution_count": 43,
   "id": "9fd12da4",
   "metadata": {
    "vscode": {
     "languageId": "shellscript"
    }
   },
   "outputs": [
    {
     "ename": "SyntaxError",
     "evalue": "Missing parentheses in call to 'print'. Did you mean print(...)? (2608572266.py, line 1)",
     "output_type": "error",
     "traceback": [
      "  \u001b[36mCell\u001b[39m\u001b[36m \u001b[39m\u001b[32mIn[43]\u001b[39m\u001b[32m, line 1\u001b[39m\n\u001b[31m    \u001b[39m\u001b[31mprint \"Eu sou um erro\"\u001b[39m\n    ^\n\u001b[31mSyntaxError\u001b[39m\u001b[31m:\u001b[39m Missing parentheses in call to 'print'. Did you mean print(...)?\n"
     ]
    }
   ],
   "source": [
    "print \"Eu sou um erro\""
   ]
  },
  {
   "cell_type": "markdown",
   "id": "f741122e",
   "metadata": {},
   "source": [
    "Quando, mesmo sem problemas na sintaxe do código algum erro ocorrer, ele provavelmente vai ser uma exceção (exception). Um tipo de erro que o código pode lidar sem a necessidade de interação direta do desenvolvedor:"
   ]
  },
  {
   "cell_type": "code",
   "execution_count": 44,
   "id": "45b26edf",
   "metadata": {},
   "outputs": [
    {
     "ename": "NameError",
     "evalue": "name 'Num' is not defined",
     "output_type": "error",
     "traceback": [
      "\u001b[31m---------------------------------------------------------------------------\u001b[39m",
      "\u001b[31mNameError\u001b[39m                                 Traceback (most recent call last)",
      "\u001b[36mCell\u001b[39m\u001b[36m \u001b[39m\u001b[32mIn[44]\u001b[39m\u001b[32m, line 2\u001b[39m\n\u001b[32m      1\u001b[39m num = \u001b[32m2\u001b[39m\n\u001b[32m----> \u001b[39m\u001b[32m2\u001b[39m \u001b[38;5;28mprint\u001b[39m(\u001b[43mNum\u001b[49m)\n",
      "\u001b[31mNameError\u001b[39m: name 'Num' is not defined"
     ]
    }
   ],
   "source": [
    "num = 2\n",
    "print(Num)\n"
   ]
  },
  {
   "cell_type": "code",
   "execution_count": 45,
   "id": "f69d0e4c",
   "metadata": {},
   "outputs": [
    {
     "ename": "ZeroDivisionError",
     "evalue": "division by zero",
     "output_type": "error",
     "traceback": [
      "\u001b[31m---------------------------------------------------------------------------\u001b[39m",
      "\u001b[31mZeroDivisionError\u001b[39m                         Traceback (most recent call last)",
      "\u001b[36mCell\u001b[39m\u001b[36m \u001b[39m\u001b[32mIn[45]\u001b[39m\u001b[32m, line 1\u001b[39m\n\u001b[32m----> \u001b[39m\u001b[32m1\u001b[39m \u001b[32;43m2\u001b[39;49m\u001b[43m/\u001b[49m\u001b[32;43m0\u001b[39;49m\n",
      "\u001b[31mZeroDivisionError\u001b[39m: division by zero"
     ]
    }
   ],
   "source": [
    "2/0"
   ]
  },
  {
   "cell_type": "markdown",
   "id": "9ea3c325",
   "metadata": {},
   "source": [
    "### Lista de exceções padrões do python\n",
    "\n",
    "| Exceção                   | Descrição                                                                       |\n",
    "| ------------------------- | ------------------------------------------------------------------------------- |\n",
    "| **ArithmeticError**       | Lançada quando ocorre um erro em cálculos numéricos.                            |\n",
    "| **AssertionError**        | Lançada quando uma instrução `assert` falha.                                    |\n",
    "| **AttributeError**        | Lançada quando a referência ou atribuição de um atributo falha.                 |\n",
    "| **Exception**             | Classe base para todas as exceções.                                             |\n",
    "| **EOFError**              | Lançada quando o método `input()` encontra um fim de arquivo (EOF).             |\n",
    "| **FloatingPointError**    | Lançada quando uma operação de ponto flutuante falha.                           |\n",
    "| **GeneratorExit**         | Lançada quando um gerador é fechado (com o método `close()`).                   |\n",
    "| **ImportError**           | Lançada quando um módulo importado não existe.                                  |\n",
    "| **IndentationError**      | Lançada quando a indentação está incorreta.                                     |\n",
    "| **IndexError**            | Lançada quando um índice de uma sequência não existe.                           |\n",
    "| **KeyError**              | Lançada quando uma chave não existe em um dicionário.                           |\n",
    "| **KeyboardInterrupt**     | Lançada quando o usuário pressiona Ctrl+C, Ctrl+Z ou Delete.                    |\n",
    "| **LookupError**           | Lançada quando erros de pesquisa não podem ser encontrados.                     |\n",
    "| **MemoryError**           | Lançada quando o programa fica sem memória.                                     |\n",
    "| **NameError**             | Lançada quando uma variável não existe.                                         |\n",
    "| **NotImplementedError**   | Lançada quando um método abstrato precisa ser sobrescrito por uma classe filha. |\n",
    "| **OSError**               | Lançada quando uma operação relacionada ao sistema causa um erro.               |\n",
    "| **OverflowError**         | Lançada quando o resultado de um cálculo numérico é muito grande.               |\n",
    "| **ReferenceError**        | Lançada quando um objeto de referência fraca (`weakref`) não existe.            |\n",
    "| **RuntimeError**          | Lançada quando ocorre um erro que não pertence a exceções específicas.          |\n",
    "| **StopIteration**         | Lançada quando o método `next()` de um iterador não tem mais valores.           |\n",
    "| **SyntaxError**           | Lançada quando ocorre um erro de sintaxe.                                       |\n",
    "| **TabError**              | Lançada quando a indentação mistura espaços e tabulações.                       |\n",
    "| **SystemError**           | Lançada quando ocorre um erro interno do sistema.                               |\n",
    "| **SystemExit**            | Lançada quando a função `sys.exit()` é chamada.                                 |\n",
    "| **TypeError**             | Lançada quando dois tipos diferentes são combinados incorretamente.             |\n",
    "| **UnboundLocalError**     | Lançada quando uma variável local é referenciada antes de ser atribuída.        |\n",
    "| **UnicodeError**          | Lançada quando ocorre um problema com Unicode.                                  |\n",
    "| **UnicodeEncodeError**    | Lançada quando ocorre um erro ao codificar Unicode.                             |\n",
    "| **UnicodeDecodeError**    | Lançada quando ocorre um erro ao decodificar Unicode.                           |\n",
    "| **UnicodeTranslateError** | Lançada quando ocorre um erro ao traduzir Unicode.                              |\n",
    "| **ValueError**            | Lançada quando há um valor inválido para um tipo de dado específico.            |\n",
    "| **ZeroDivisionError**     | Lançada quando o segundo operando de uma divisão é zero.                        |\n"
   ]
  },
  {
   "cell_type": "markdown",
   "id": "573f7d14",
   "metadata": {},
   "source": [
    "## Lidando com Exceções\n",
    "try, except, else, finally, raise"
   ]
  },
  {
   "cell_type": "code",
   "execution_count": 52,
   "id": "90d94013",
   "metadata": {},
   "outputs": [
    {
     "name": "stdout",
     "output_type": "stream",
     "text": [
      "O segundo número tem que ser diferente de zero\n",
      "terminando o try\n",
      "depois da divisão\n"
     ]
    }
   ],
   "source": [
    "try:\n",
    "    num1 = int(input(\"Informe o primeiro número: \"))\n",
    "    num2 = int(input(\"Informe o segundo número: \"))\n",
    "    divisao = num1/num2\n",
    "except ZeroDivisionError:\n",
    "    print(\"O segundo número tem que ser diferente de zero\")\n",
    "except ValueError:\n",
    "    print(\"Informe apenas números\")\n",
    "except:\n",
    "    print(\"Entre em contato com o suporte\")\n",
    "else:\n",
    "    print(\"Nenhum erro no sistema de login\")\n",
    "finally:\n",
    "    print(\"terminando o try\")\n",
    "\n",
    "print(\"depois da divisão\")"
   ]
  },
  {
   "cell_type": "code",
   "execution_count": null,
   "id": "ece1faa3",
   "metadata": {},
   "outputs": [],
   "source": [
    "\n",
    "try:\n",
    "    num1 = int(input(\"Informe o primeiro número: \"))\n",
    "    num2 = int(input(\"Informe o segundo número: \"))\n",
    "    soma = num1/num2\n",
    "except ZeroDivisionError:\n",
    "    print(\"O segundo número tem que ser diferente de Zero\")\n",
    "except ValueError:\n",
    "    print(\"Só informar números\")\n",
    "except:\n",
    "    print(\"algo deu errado, contate o suporte\")\n",
    "else:\n",
    "    print(soma)\n",
    "finally:\n",
    "    print(\"qualquer coisa\")\n",
    "\n",
    "print(\"depois da divisão\")"
   ]
  },
  {
   "cell_type": "markdown",
   "id": "13898ba0",
   "metadata": {},
   "source": [
    "### raise\n"
   ]
  },
  {
   "cell_type": "code",
   "execution_count": null,
   "id": "b0fbc70c",
   "metadata": {},
   "outputs": [
    {
     "ename": "ValueError",
     "evalue": "Idade não pode ser menor que zero",
     "output_type": "error",
     "traceback": [
      "\u001b[31m---------------------------------------------------------------------------\u001b[39m",
      "\u001b[31mValueError\u001b[39m                                Traceback (most recent call last)",
      "\u001b[36mCell\u001b[39m\u001b[36m \u001b[39m\u001b[32mIn[58]\u001b[39m\u001b[32m, line 3\u001b[39m\n\u001b[32m      1\u001b[39m idade = \u001b[38;5;28mint\u001b[39m(\u001b[38;5;28minput\u001b[39m(\u001b[33m\"\u001b[39m\u001b[33mInforme o primeiro número: \u001b[39m\u001b[33m\"\u001b[39m))\n\u001b[32m      2\u001b[39m \u001b[38;5;28;01mif\u001b[39;00m idade <= \u001b[32m0\u001b[39m:\n\u001b[32m----> \u001b[39m\u001b[32m3\u001b[39m     \u001b[38;5;28;01mraise\u001b[39;00m \u001b[38;5;167;01mValueError\u001b[39;00m(\u001b[33m\"\u001b[39m\u001b[33mIdade não pode ser menor que zero\u001b[39m\u001b[33m\"\u001b[39m)\n\u001b[32m      4\u001b[39m soma = num1/num2\n",
      "\u001b[31mValueError\u001b[39m: Idade não pode ser menor que zero"
     ]
    }
   ],
   "source": [
    "idade = int(input(\"Informe o primeiro número: \"))\n",
    "if idade <= 0:\n",
    "    raise ValueError(\"Idade não pode ser menor que zero\")\n",
    "soma = num1/num2"
   ]
  },
  {
   "cell_type": "markdown",
   "id": "e39f2264",
   "metadata": {},
   "source": [
    "#### Criando um novo tipo de erro\n",
    "Para isso criamos uma classe para o erro e o usamos com o `raise`"
   ]
  },
  {
   "cell_type": "code",
   "execution_count": null,
   "id": "cb188820",
   "metadata": {},
   "outputs": [
    {
     "ename": "erroIdade",
     "evalue": "Idade tem que ser maior que Zero",
     "output_type": "error",
     "traceback": [
      "\u001b[31m---------------------------------------------------------------------------\u001b[39m",
      "\u001b[31merroIdade\u001b[39m                                 Traceback (most recent call last)",
      "\u001b[36mCell\u001b[39m\u001b[36m \u001b[39m\u001b[32mIn[59]\u001b[39m\u001b[32m, line 6\u001b[39m\n\u001b[32m      4\u001b[39m idade = \u001b[38;5;28mint\u001b[39m(\u001b[38;5;28minput\u001b[39m(\u001b[33m\"\u001b[39m\u001b[33minforme a idade: \u001b[39m\u001b[33m\"\u001b[39m))\n\u001b[32m      5\u001b[39m \u001b[38;5;28;01mif\u001b[39;00m idade <= \u001b[32m0\u001b[39m:\n\u001b[32m----> \u001b[39m\u001b[32m6\u001b[39m     \u001b[38;5;28;01mraise\u001b[39;00m erroIdade(\u001b[33m\"\u001b[39m\u001b[33mIdade tem que ser maior que Zero\u001b[39m\u001b[33m\"\u001b[39m)\n",
      "\u001b[31merroIdade\u001b[39m: Idade tem que ser maior que Zero"
     ]
    }
   ],
   "source": [
    "class erroIdade(Exception):\n",
    "    pass\n",
    "\n",
    "#class erroIdade(Exception): ...\n",
    "\n",
    "idade = int(input(\"informe a idade: \"))\n",
    "if idade <= 0:\n",
    "    raise erroIdade(\"Idade tem que ser maior que Zero\")"
   ]
  },
  {
   "cell_type": "markdown",
   "id": "75e9ae04",
   "metadata": {},
   "source": [
    "Usando `try` e `except`"
   ]
  },
  {
   "cell_type": "code",
   "execution_count": 64,
   "id": "709a1567",
   "metadata": {},
   "outputs": [
    {
     "name": "stdout",
     "output_type": "stream",
     "text": [
      "Idade tem que ser maior que Zero\n",
      "erroIdade : Idade tem que ser maior que Zero\n"
     ]
    }
   ],
   "source": [
    "class erroIdade(Exception):\n",
    "    pass\n",
    "\n",
    "try:\n",
    "    idade = int(input(\"informe a idade: \"))\n",
    "    if idade <= 0:\n",
    "        raise erroIdade(\"Idade tem que ser maior que Zero\")\n",
    "except erroIdade as erro:\n",
    "    print(erro)\n",
    "    print(type(erro).__name__,\":\", erro)"
   ]
  }
 ],
 "metadata": {
  "kernelspec": {
   "display_name": "Python 3",
   "language": "python",
   "name": "python3"
  },
  "language_info": {
   "codemirror_mode": {
    "name": "ipython",
    "version": 3
   },
   "file_extension": ".py",
   "mimetype": "text/x-python",
   "name": "python",
   "nbconvert_exporter": "python",
   "pygments_lexer": "ipython3",
   "version": "3.13.6"
  }
 },
 "nbformat": 4,
 "nbformat_minor": 5
}
