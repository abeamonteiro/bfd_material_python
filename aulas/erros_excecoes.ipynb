{
 "cells": [
  {
   "cell_type": "markdown",
   "id": "da4a3a70",
   "metadata": {},
   "source": [
    "# Erros e exceções\n",
    "Certamente já nos deparamos com erros no python, quando algo esta errado no código, normalmente a execução do programa é interrompido e no terminal é mostrado uma mensagem similar a essa:"
   ]
  },
  {
   "cell_type": "code",
   "execution_count": null,
   "id": "4f5c90c4",
   "metadata": {},
   "outputs": [],
   "source": [
    "casa"
   ]
  },
  {
   "cell_type": "code",
   "execution_count": null,
   "id": "f2b6f9eb",
   "metadata": {
    "vscode": {
     "languageId": "shellscript"
    }
   },
   "outputs": [],
   "source": [
    "Traceback (most recent call last):\n",
    "  File \"/home/frederico/dev/bfd_material_python/teste.py\", line 1, in <module>\n",
    "    casa\n",
    "NameError: name 'casa' is not defined"
   ]
  },
  {
   "cell_type": "markdown",
   "id": "333e0b12",
   "metadata": {},
   "source": [
    "Apesar da mensagem poder assustar, ela traz informações extremamente importantes que nos dão pistas de como resolver o erro.\n",
    "Note no erro gerado, que na segunda linha ele nos informa o arquivo que levantou o erro e a linha onde provavelmente o erro esta. Logo em seguida, linha 3, ele mostra a linha do código em si e depois nos é informado o tipo do erro e a sua descrição. Nesse caso foi um **NameError**, um erro que ocorre commumente quando um nome de variável não foi definida. Aqui a palavra casa, não é nem uma string nem uma declaração de variável.\n",
    "\n",
    "No python existem essencialmente 2 grupos de erros: O erro de sintaxe, como o nome sugere, ocorre quando o código apresenta um erro na sua sintaxe:"
   ]
  },
  {
   "cell_type": "code",
   "execution_count": 1,
   "id": "9fd12da4",
   "metadata": {
    "vscode": {
     "languageId": "shellscript"
    }
   },
   "outputs": [
    {
     "ename": "SyntaxError",
     "evalue": "Missing parentheses in call to 'print'. Did you mean print(...)? (2608572266.py, line 1)",
     "output_type": "error",
     "traceback": [
      "  \u001b[36mCell\u001b[39m\u001b[36m \u001b[39m\u001b[32mIn[1]\u001b[39m\u001b[32m, line 1\u001b[39m\n\u001b[31m    \u001b[39m\u001b[31mprint \"Eu sou um erro\"\u001b[39m\n    ^\n\u001b[31mSyntaxError\u001b[39m\u001b[31m:\u001b[39m Missing parentheses in call to 'print'. Did you mean print(...)?\n"
     ]
    }
   ],
   "source": [
    "print \"Eu sou um erro\""
   ]
  },
  {
   "cell_type": "code",
   "execution_count": null,
   "id": "0faf91cb",
   "metadata": {
    "vscode": {
     "languageId": "shellscript"
    }
   },
   "outputs": [],
   "source": []
  },
  {
   "cell_type": "markdown",
   "id": "45b26edf",
   "metadata": {},
   "source": [
    "\n",
    "## Erros\n",
    "\n",
    "## Exceções\n",
    "\n",
    "## Lidando com Exceções"
   ]
  }
 ],
 "metadata": {
  "kernelspec": {
   "display_name": "Python 3",
   "language": "python",
   "name": "python3"
  },
  "language_info": {
   "codemirror_mode": {
    "name": "ipython",
    "version": 3
   },
   "file_extension": ".py",
   "mimetype": "text/x-python",
   "name": "python",
   "nbconvert_exporter": "python",
   "pygments_lexer": "ipython3",
   "version": "3.13.5"
  }
 },
 "nbformat": 4,
 "nbformat_minor": 5
}
