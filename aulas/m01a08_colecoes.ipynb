{
 "cells": [
  {
   "cell_type": "markdown",
   "id": "35af78d2",
   "metadata": {},
   "source": [
    "# Tipos de Dados II - Coleções\n",
    "Na Parte 1, vimos string, números inteiros e reais (float) e os booleanos (True e False). Neste capítulo, vamos tratar dos 4 tipos de dados usados para armazenar coleções de dados, são eles: Listas, Tuplas, Conjuntos e Dicionários."
   ]
  },
  {
   "cell_type": "markdown",
   "id": "880ad37b",
   "metadata": {},
   "source": [
    "## Listas\n",
    "\n",
    "Listas são dinâmicas. Os itens armazenados são ordenados, alteráveis e permitem valores duplicados. Ele pode conter diferentes tipos de dados ao mesmo tempo, incluindo outras listas.\n",
    "\n",
    "No Python, as listas são definidas pelo uso de colchetes [ ] e os itens são separados por virgula.\n"
   ]
  },
  {
   "cell_type": "code",
   "execution_count": 3,
   "id": "c99564db",
   "metadata": {},
   "outputs": [
    {
     "name": "stdout",
     "output_type": "stream",
     "text": [
      "<class 'list'>\n"
     ]
    }
   ],
   "source": [
    "# Criando uma lista\n",
    "lista_vazia = []\n",
    "\n",
    "lista_mista = [2, \"2\", True, [1,2,3], \"olá!\", lista_vazia]\n",
    "\n",
    "frutas = [\"laranja\", \"melão\", \"banana\"]\n",
    "\n",
    "print(type(lista_vazia)) # Imprime o tipo do dado atribuido a variával lista"
   ]
  },
  {
   "cell_type": "markdown",
   "id": "74e2c2d5",
   "metadata": {},
   "source": [
    "Os itens da lista são indexados, ou seja, sua posição é definida por um índice (index), que começa em zero [0], seguido por um [1] e assim sucessivamente. Os índices são usado para identificar itens e realizar outras operações que serão apresentadas mais adiante.\n",
    "\n",
    "A baixo temos uma representação dos índices em uma lista\n",
    "```\n",
    "  0    1    2    3\n",
    "[\"a\", \"b\", \"c\", \"d\"]\n",
    " -4   -3   -2   -1\n",
    " ```\n",
    " Note que valores negativos podem ser usados, sendo o índice [-1] representando o último ítem da lista \n"
   ]
  },
  {
   "cell_type": "markdown",
   "id": "06d07e63",
   "metadata": {},
   "source": [
    "### Acessando ítens da lista"
   ]
  },
  {
   "cell_type": "markdown",
   "id": "dcc7fe16",
   "metadata": {},
   "source": [
    "### Adicionando ítens a lista\n",
    "\n",
    "#### Método `.append(ítem)`\n",
    "Adiciona o ítem ao final da lista"
   ]
  },
  {
   "cell_type": "code",
   "execution_count": null,
   "id": "691d539a",
   "metadata": {},
   "outputs": [
    {
     "name": "stdout",
     "output_type": "stream",
     "text": [
      "['laranja', 'melão', 'banana', 'kiwi']\n"
     ]
    }
   ],
   "source": [
    "frutas = [\"laranja\", \"melão\", \"banana\"]\n",
    "\n",
    "frutas.append(\"kiwi\")\n",
    "print(frutas)"
   ]
  },
  {
   "cell_type": "markdown",
   "id": "7b9cc0f9",
   "metadata": {},
   "source": [
    "#### Método `.insert(índice, valor)`\n",
    "Adiciona o ítem a um índice expecificado no método"
   ]
  },
  {
   "cell_type": "code",
   "execution_count": 5,
   "id": "6a4c41bd",
   "metadata": {},
   "outputs": [
    {
     "name": "stdout",
     "output_type": "stream",
     "text": [
      "['laranja', 'jaca', 'melão', 'banana', 'kiwi']\n",
      "['laranja', 'jaca', 'melão', 'banana', 'kiwi', 'goiaba']\n"
     ]
    }
   ],
   "source": [
    "frutas.insert(1, \"jaca\")\n",
    "print(frutas)\n",
    "\n",
    "frutas.insert(15, \"goiaba\")\n",
    "print(frutas)"
   ]
  },
  {
   "cell_type": "markdown",
   "id": "5a045950",
   "metadata": {},
   "source": [
    "Note que no ultimo insert, mesmo indicando o índice 15, o item foi adicionado ao ultimo índice da lista."
   ]
  },
  {
   "cell_type": "markdown",
   "id": "ae90d25c",
   "metadata": {},
   "source": [
    "#### Concatenando listas\n",
    "Vários ítens podem ser adicionados de uma vez a lista, concatenando duas listas:"
   ]
  },
  {
   "cell_type": "code",
   "execution_count": 6,
   "id": "ef0a632e",
   "metadata": {},
   "outputs": [
    {
     "name": "stdout",
     "output_type": "stream",
     "text": [
      "['João', 'Bruna', 'Fred', 'Francisco', 'Maria']\n"
     ]
    }
   ],
   "source": [
    "nomes = [\"João\", \"Bruna\", \"Fred\"]\n",
    "nomes2 = [\"Francisco\", \"Maria\"]\n",
    "nomes3 = nomes + nomes2\n",
    "print(nomes3)"
   ]
  },
  {
   "cell_type": "markdown",
   "id": "e43c51d9",
   "metadata": {},
   "source": [
    "### Removendo ítens da lista\n",
    "\n",
    "#### Método `.remove(ítem)`\n",
    "Remove o ítem a partir do seu valor:"
   ]
  },
  {
   "cell_type": "code",
   "execution_count": 7,
   "id": "1391204c",
   "metadata": {},
   "outputs": [
    {
     "name": "stdout",
     "output_type": "stream",
     "text": [
      "['laranja', 'banana', 'kiwi', 'goiaba']\n"
     ]
    }
   ],
   "source": [
    "frutas = [\"laranja\", \"melão\", \"banana\", \"kiwi\", \"goiaba\"]\n",
    "frutas.remove(\"melão\")\n",
    "print(frutas)"
   ]
  },
  {
   "cell_type": "markdown",
   "id": "1d3fca86",
   "metadata": {},
   "source": [
    "#### Método `.pop(índice)`\n",
    "Remove o ítem com base no seu índice e caso nenhum seja informado, remove o ultimo ítem:"
   ]
  },
  {
   "cell_type": "code",
   "execution_count": null,
   "id": "9ac766c3",
   "metadata": {},
   "outputs": [
    {
     "name": "stdout",
     "output_type": "stream",
     "text": [
      "['laranja', 'melão', 'kiwi', 'goiaba']\n",
      "['laranja', 'melão', 'kiwi']\n"
     ]
    }
   ],
   "source": [
    "frutas = [\"laranja\", \"melão\", \"banana\", \"kiwi\", \"goiaba\"]\n",
    "frutas.pop(2)\n",
    "print(frutas)\n",
    "\n",
    "frutas.pop() #remove o ultimo ítem\n",
    "print(frutas)"
   ]
  },
  {
   "cell_type": "markdown",
   "id": "95a69298",
   "metadata": {},
   "source": [
    "#### Método `.clear`\n",
    "Ele não deleta a lista, mas remove todos os seus ítens:"
   ]
  },
  {
   "cell_type": "code",
   "execution_count": 12,
   "id": "6fefcb65",
   "metadata": {},
   "outputs": [
    {
     "name": "stdout",
     "output_type": "stream",
     "text": [
      "[]\n"
     ]
    }
   ],
   "source": [
    "frutas = [\"laranja\", \"melão\", \"banana\", \"kiwi\", \"goiaba\"]\n",
    "frutas.clear()\n",
    "print(frutas)\n"
   ]
  },
  {
   "cell_type": "markdown",
   "id": "d885a5f3",
   "metadata": {},
   "source": [
    "#### del"
   ]
  },
  {
   "cell_type": "code",
   "execution_count": null,
   "id": "9da879a4",
   "metadata": {},
   "outputs": [],
   "source": [
    "frutas = [\"laranja\", \"melão\", \"banana\", \"kiwi\", \"goiaba\"]\n",
    "del frutas[1]\n",
    "print(frutas)\n",
    "\n",
    "del frutas\n",
    "print(frutas)"
   ]
  },
  {
   "cell_type": "markdown",
   "id": "281cfe4c",
   "metadata": {},
   "source": [
    "### Copiando listas\n",
    "\n",
    "Método `.copy()`\n",
    "slice"
   ]
  },
  {
   "cell_type": "markdown",
   "id": "7bb4c721",
   "metadata": {},
   "source": [
    "### Outros métodos das listas"
   ]
  },
  {
   "cell_type": "markdown",
   "id": "967e0d9f",
   "metadata": {},
   "source": [
    "### List comprehension"
   ]
  },
  {
   "cell_type": "markdown",
   "id": "119b0784",
   "metadata": {},
   "source": [
    "### Lista bidimensional (Matriz)"
   ]
  },
  {
   "cell_type": "markdown",
   "id": "9a99d3d8",
   "metadata": {},
   "source": [
    "### Lista tridimensional"
   ]
  },
  {
   "cell_type": "markdown",
   "id": "d240fc4c",
   "metadata": {},
   "source": [
    "---\n",
    "## Tuplas"
   ]
  },
  {
   "cell_type": "markdown",
   "id": "ab4e16ad",
   "metadata": {},
   "source": [
    "---\n",
    "## Conjuntos (sets)"
   ]
  },
  {
   "cell_type": "markdown",
   "id": "918d149a",
   "metadata": {},
   "source": [
    "---\n",
    "## Dicionários"
   ]
  }
 ],
 "metadata": {
  "kernelspec": {
   "display_name": ".venv",
   "language": "python",
   "name": "python3"
  },
  "language_info": {
   "codemirror_mode": {
    "name": "ipython",
    "version": 3
   },
   "file_extension": ".py",
   "mimetype": "text/x-python",
   "name": "python",
   "nbconvert_exporter": "python",
   "pygments_lexer": "ipython3",
   "version": "3.13.5"
  }
 },
 "nbformat": 4,
 "nbformat_minor": 5
}
