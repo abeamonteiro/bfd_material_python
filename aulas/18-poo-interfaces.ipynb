{
 "cells": [
  {
   "cell_type": "markdown",
   "id": "2b8b7329",
   "metadata": {},
   "source": [
    "    Uma classe pode implementar várias interfaces (herança múltipla), mas apenas uma super classe;\n",
    "    Uma interface não pode implementar nenhum método, enquanto uma classe abstrata em geral possui alguns métodos concretos e outros abstratos."
   ]
  }
 ],
 "metadata": {
  "language_info": {
   "name": "python"
  }
 },
 "nbformat": 4,
 "nbformat_minor": 5
}
